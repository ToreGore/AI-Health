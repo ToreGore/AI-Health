{
 "cells": [
  {
   "cell_type": "code",
   "execution_count": 2,
   "metadata": {},
   "outputs": [],
   "source": [
    "#!pip install opencv-python\n",
    "\n",
    "import tensorflow as tf\n",
    "import time\n",
    "from tensorflow.keras.layers import Input, Conv2D, BatchNormalization, Dense\n",
    "from tensorflow.keras.layers import AvgPool2D, GlobalAveragePooling2D, MaxPool2D\n",
    "from tensorflow.keras.models import Model\n",
    "from tensorflow.keras.layers import ReLU, concatenate\n",
    "import tensorflow.keras.backend as K\n",
    "import numpy as np                                    \n",
    "import pandas as pd \n",
    "import os\n",
    "import random\n",
    "import cv2\n",
    "from tensorflow.keras.preprocessing.image import ImageDataGenerator,img_to_array\n",
    "from tensorflow.keras.callbacks import ModelCheckpoint, ReduceLROnPlateau\n",
    "from sklearn.model_selection import train_test_split\n",
    "from sklearn.preprocessing import LabelEncoder\n",
    "import warnings\n",
    "from sklearn.preprocessing import MultiLabelBinarizer, LabelBinarizer\n",
    "warnings.filterwarnings(\"ignore\")"
   ]
  },
  {
   "cell_type": "code",
   "execution_count": 32,
   "metadata": {},
   "outputs": [],
   "source": [
    "class SimpleNet:\n",
    "    def __init__(self, input_shape, n_classes, filters = 32):\n",
    "        self.input_shape = input_shape\n",
    "        self.n_classes = n_classes\n",
    "        self.filters = filters\n",
    "        self.model = tf.keras.Sequential()\n",
    "    def build_self(self):\n",
    "        self.model.add(Input(shape=self.input_shape))\n",
    "        self.model.add(Conv2D(self.filters, (3, 3), activation=\"relu\"))\n",
    "        self.model.add(Conv2D(16, (3, 3), activation=\"relu\"))\n",
    "        self.model.add(Conv2D(8, (3, 3), activation=\"relu\"))\n",
    "        self.model.add(Dense(32, activation=\"sigmoid\"))\n",
    "        self.model.add(Dense(self.n_classes))\n",
    "        self.model.compile(optimizer=\"SGD\", loss=\"MAE\", metrics=[\"MSE\"])\n",
    "        return self.model"
   ]
  },
  {
   "cell_type": "code",
   "execution_count": 33,
   "metadata": {},
   "outputs": [],
   "source": [
    "a = SimpleNet((64, 64, 3), 2)"
   ]
  },
  {
   "cell_type": "code",
   "execution_count": 35,
   "metadata": {},
   "outputs": [
    {
     "name": "stdout",
     "output_type": "stream",
     "text": [
      "Model: \"sequential_7\"\n",
      "_________________________________________________________________\n",
      "Layer (type)                 Output Shape              Param #   \n",
      "=================================================================\n",
      "conv2d_11 (Conv2D)           (None, 62, 62, 32)        896       \n",
      "_________________________________________________________________\n",
      "conv2d_12 (Conv2D)           (None, 60, 60, 16)        4624      \n",
      "_________________________________________________________________\n",
      "conv2d_13 (Conv2D)           (None, 58, 58, 8)         1160      \n",
      "_________________________________________________________________\n",
      "dense_7 (Dense)              (None, 58, 58, 32)        288       \n",
      "_________________________________________________________________\n",
      "dense_8 (Dense)              (None, 58, 58, 2)         66        \n",
      "_________________________________________________________________\n",
      "input_9 (InputLayer)         multiple                  0         \n",
      "_________________________________________________________________\n",
      "conv2d_14 (Conv2D)           (None, 56, 56, 32)        608       \n",
      "_________________________________________________________________\n",
      "conv2d_15 (Conv2D)           (None, 54, 54, 16)        4624      \n",
      "_________________________________________________________________\n",
      "conv2d_16 (Conv2D)           (None, 52, 52, 8)         1160      \n",
      "_________________________________________________________________\n",
      "dense_9 (Dense)              (None, 52, 52, 32)        288       \n",
      "_________________________________________________________________\n",
      "dense_10 (Dense)             (None, 52, 52, 2)         66        \n",
      "=================================================================\n",
      "Total params: 13,780\n",
      "Trainable params: 13,780\n",
      "Non-trainable params: 0\n",
      "_________________________________________________________________\n"
     ]
    }
   ],
   "source": [
    "a.build_self().summary()"
   ]
  },
  {
   "cell_type": "code",
   "execution_count": null,
   "metadata": {},
   "outputs": [],
   "source": []
  }
 ],
 "metadata": {
  "kernelspec": {
   "display_name": "Python 3",
   "language": "python",
   "name": "python3"
  },
  "language_info": {
   "codemirror_mode": {
    "name": "ipython",
    "version": 3
   },
   "file_extension": ".py",
   "mimetype": "text/x-python",
   "name": "python",
   "nbconvert_exporter": "python",
   "pygments_lexer": "ipython3",
   "version": "3.6.7"
  }
 },
 "nbformat": 4,
 "nbformat_minor": 2
}
