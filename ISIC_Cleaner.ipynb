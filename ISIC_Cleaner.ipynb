{
 "cells": [
  {
   "cell_type": "code",
   "execution_count": 28,
   "metadata": {},
   "outputs": [],
   "source": [
    "import pandas as pd"
   ]
  },
  {
   "cell_type": "code",
   "execution_count": 29,
   "metadata": {},
   "outputs": [
    {
     "output_type": "execute_result",
     "data": {
      "text/plain": [
       "   image_name_1  image_name_2\n",
       "0  ISIC_0079038  ISIC_8521950\n",
       "1  ISIC_0087297  ISIC_4755972\n",
       "2  ISIC_0088137  ISIC_4201955\n",
       "3  ISIC_0112097  ISIC_5934021\n",
       "4  ISIC_0148783  ISIC_7460560"
      ],
      "text/html": "<div>\n<style scoped>\n    .dataframe tbody tr th:only-of-type {\n        vertical-align: middle;\n    }\n\n    .dataframe tbody tr th {\n        vertical-align: top;\n    }\n\n    .dataframe thead th {\n        text-align: right;\n    }\n</style>\n<table border=\"1\" class=\"dataframe\">\n  <thead>\n    <tr style=\"text-align: right;\">\n      <th></th>\n      <th>image_name_1</th>\n      <th>image_name_2</th>\n    </tr>\n  </thead>\n  <tbody>\n    <tr>\n      <th>0</th>\n      <td>ISIC_0079038</td>\n      <td>ISIC_8521950</td>\n    </tr>\n    <tr>\n      <th>1</th>\n      <td>ISIC_0087297</td>\n      <td>ISIC_4755972</td>\n    </tr>\n    <tr>\n      <th>2</th>\n      <td>ISIC_0088137</td>\n      <td>ISIC_4201955</td>\n    </tr>\n    <tr>\n      <th>3</th>\n      <td>ISIC_0112097</td>\n      <td>ISIC_5934021</td>\n    </tr>\n    <tr>\n      <th>4</th>\n      <td>ISIC_0148783</td>\n      <td>ISIC_7460560</td>\n    </tr>\n  </tbody>\n</table>\n</div>"
     },
     "metadata": {},
     "execution_count": 29
    }
   ],
   "source": [
    "\n",
    "ds_same = pd.read_csv(\"C:\\\\Users\\\\clara\\\\Development\\\\AI-Health\\\\ISIC_2020_Training_Duplicates.csv\")\n",
    "ds = pd.read_csv(\"./ISIC_2020_Training_GroundTruth.csv\")\n",
    "ds_same.head()"
   ]
  },
  {
   "cell_type": "code",
   "execution_count": 30,
   "metadata": {},
   "outputs": [],
   "source": [
    "cleaned_1 = ds[(ds[\"anatom_site_general_challenge\"] != \"head/neck\")]"
   ]
  },
  {
   "cell_type": "code",
   "execution_count": 31,
   "metadata": {
    "tags": []
   },
   "outputs": [],
   "source": [
    "drop_rows = []\n",
    "for index, row in ds_same.iterrows():\n",
    "    row_1 = cleaned_1.loc[cleaned_1[\"image_name\"] == row[\"image_name_1\"]]\n",
    "    row_2 = cleaned_1.loc[cleaned_1[\"image_name\"] == row[\"image_name_2\"]]\n",
    "    row_1 = row_1.loc[:, row_1.columns != 'image_name']\n",
    "    row_2 = row_2.loc[:, row_2.columns != 'image_name']\n",
    "    same = (row_1.all() == row_2.all()).all() == True\n",
    "    if same:\n",
    "        drop_rows.append(row[\"image_name_1\"])\n",
    "    else:\n",
    "        drop_rows.append(row[\"image_name_1\"])\n",
    "        drop_rows.append(row[\"image_name_2\"])\n",
    "cleaned_1 = cleaned_1[~cleaned_1[\"image_name\"].isin(drop_rows)]\n"
   ]
  },
  {
   "cell_type": "code",
   "execution_count": 32,
   "metadata": {},
   "outputs": [
    {
     "output_type": "stream",
     "name": "stdout",
     "text": [
      "30886\n"
     ]
    }
   ],
   "source": [
    "print(len(cleaned_1))"
   ]
  },
  {
   "cell_type": "code",
   "execution_count": 33,
   "metadata": {},
   "outputs": [
    {
     "output_type": "execute_result",
     "data": {
      "text/plain": [
       "30886"
      ]
     },
     "metadata": {},
     "execution_count": 33
    }
   ],
   "source": [
    "cleaned_1.to_csv(\"./cleaned_isic_v2.csv\")\n",
    "len(cleaned_1)"
   ]
  },
  {
   "cell_type": "code",
   "execution_count": 13,
   "metadata": {},
   "outputs": [],
   "source": [
    "cleaned_isic = ds[(ds[\"diagnosis\"] != \"unknown\") & (ds[\"anatom_site_general_challenge\"] != \"head/neck\")]"
   ]
  },
  {
   "cell_type": "code",
   "execution_count": 17,
   "metadata": {},
   "outputs": [],
   "source": [
    "cleaned_isic.to_csv(\"./cleaned_isic.csv\")"
   ]
  },
  {
   "cell_type": "code",
   "execution_count": 5,
   "metadata": {},
   "outputs": [
    {
     "data": {
      "text/plain": [
       "6002"
      ]
     },
     "execution_count": 5,
     "metadata": {},
     "output_type": "execute_result"
    }
   ],
   "source": [
    "len(ds[(ds[\"diagnosis\"] != \"unknown\")])"
   ]
  }
 ],
 "metadata": {
  "kernelspec": {
   "display_name": "Python 3",
   "language": "python",
   "name": "python3"
  },
  "language_info": {
   "codemirror_mode": {
    "name": "ipython",
    "version": 3
   },
   "file_extension": ".py",
   "mimetype": "text/x-python",
   "name": "python",
   "nbconvert_exporter": "python",
   "pygments_lexer": "ipython3",
   "version": "3.7.7"
  }
 },
 "nbformat": 4,
 "nbformat_minor": 2
}