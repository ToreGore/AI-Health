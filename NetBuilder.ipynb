{
 "cells": [
  {
   "cell_type": "code",
   "execution_count": 7,
   "metadata": {},
   "outputs": [],
   "source": [
    "import numpy as np\n",
    "import tensorflow as tf\n",
    "from tensorflow import keras\n",
    "from tensorflow.keras import layers"
   ]
  },
  {
   "cell_type": "code",
   "execution_count": 8,
   "metadata": {},
   "outputs": [],
   "source": [
    "### There could be made also ResNet-like models by using functional APIs. I'll include them afterwards. "
   ]
  },
  {
   "cell_type": "code",
   "execution_count": 9,
   "metadata": {},
   "outputs": [],
   "source": [
    "# Class to have a generic model building class, doesn't allow for forked architectures though (yet)\n",
    "class Model:\n",
    "    def __init__(self, inputs, layers_list, output):\n",
    "        self.inputs = inputs\n",
    "        self.layers_list = layers_list\n",
    "        self.output = output\n",
    "    def instantiate(self, name=\"Generic model\"):\n",
    "        model = keras.Input(shape=self.inputs)\n",
    "        for layer in layers_list:\n",
    "            model = layer(model)\n",
    "        output = self.output(model)\n",
    "        self.model = keras.Model(model, output, name=name)\n",
    "        return self\n",
    "    def compile_model(self, optimizer, loss):\n",
    "        self.model.compile(optimizer=optimizer, loss=loss)"
   ]
  },
  {
   "cell_type": "code",
   "execution_count": null,
   "metadata": {},
   "outputs": [],
   "source": []
  }
 ],
 "metadata": {
  "kernelspec": {
   "display_name": "Python 3",
   "language": "python",
   "name": "python3"
  },
  "language_info": {
   "codemirror_mode": {
    "name": "ipython",
    "version": 3
   },
   "file_extension": ".py",
   "mimetype": "text/x-python",
   "name": "python",
   "nbconvert_exporter": "python",
   "pygments_lexer": "ipython3",
   "version": "3.6.7"
  }
 },
 "nbformat": 4,
 "nbformat_minor": 2
}
