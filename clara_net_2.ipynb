{
 "metadata": {
  "language_info": {
   "codemirror_mode": {
    "name": "ipython",
    "version": 3
   },
   "file_extension": ".py",
   "mimetype": "text/x-python",
   "name": "python",
   "nbconvert_exporter": "python",
   "pygments_lexer": "ipython3",
   "version": "3.7.7-final"
  },
  "orig_nbformat": 2,
  "kernelspec": {
   "name": "python3",
   "display_name": "Python 3",
   "language": "python"
  }
 },
 "nbformat": 4,
 "nbformat_minor": 2,
 "cells": [
  {
   "cell_type": "code",
   "execution_count": 12,
   "metadata": {},
   "outputs": [],
   "source": [
    "import tensorflow as tf\n",
    "import time\n",
    "from tensorflow.keras.layers import Conv2D, BatchNormalization, Dense\n",
    "from tensorflow.keras import Input\n",
    "from tensorflow.keras.layers import AvgPool2D, GlobalAveragePooling2D, MaxPool2D\n",
    "from tensorflow.keras.models import Model\n",
    "from tensorflow.keras.layers import ReLU, concatenate\n",
    "import tensorflow.keras.backend as K\n",
    "import numpy as np                                    \n",
    "import pandas as pd \n",
    "import os\n",
    "import random\n",
    "import cv2\n",
    "from tensorflow.keras.preprocessing.image import ImageDataGenerator,img_to_array\n",
    "from tensorflow.keras.callbacks import ModelCheckpoint, ReduceLROnPlateau\n",
    "from sklearn.model_selection import train_test_split\n",
    "from sklearn.preprocessing import LabelEncoder\n",
    "import warnings\n",
    "from sklearn.preprocessing import MultiLabelBinarizer, LabelBinarizer\n",
    "warnings.filterwarnings(\"ignore\")"
   ]
  },
  {
   "cell_type": "code",
   "execution_count": 40,
   "metadata": {},
   "outputs": [],
   "source": [
    "class SimpleNet:\n",
    "    def __init__(self, input_shape,n_classes, filters=32):\n",
    "        self.input_shape = input_shape\n",
    "        self.n_classes = n_classes\n",
    "        self.filters = filters\n",
    "        self.model = tf.keras.Sequential()\n",
    "        \n",
    "        # self.topology_dict = topology_dict # contains the layers = which function is called when.\n",
    "    def build_self(self, topology_list):\n",
    "        self.model.add(Input(self.input_shape))\n",
    "        for layer in topology_list:\n",
    "            self.model.add(layer)\n",
    "\n",
    "        self.model.add(Dense(self.n_classes))\n",
    "        self.model.compile(optimizer=\"SGD\", loss=\"MAE\", metrics=[\"MSE\"])\n",
    "        return self.model\n",
    "        \n",
    "        # self.model.add()\n",
    "\n"
   ]
  },
  {
   "cell_type": "code",
   "execution_count": 41,
   "metadata": {},
   "outputs": [],
   "source": [
    "top_list = [Conv2D(32, (3, 3), activation=\"relu\"),Conv2D(16, (3, 3), activation=\"relu\"), Conv2D(8, (3, 3), activation=\"relu\"), Dense(32, activation=\"sigmoid\"), ]"
   ]
  },
  {
   "cell_type": "code",
   "execution_count": 43,
   "metadata": {},
   "outputs": [],
   "source": [
    "a = SimpleNet((64,64,3),2)"
   ]
  },
  {
   "cell_type": "code",
   "execution_count": 44,
   "metadata": {},
   "outputs": [
    {
     "output_type": "stream",
     "name": "stdout",
     "text": [
      "Model: \"sequential_8\"\n_________________________________________________________________\nLayer (type)                 Output Shape              Param #   \n=================================================================\nconv2d_8 (Conv2D)            (None, 62, 62, 32)        896       \n_________________________________________________________________\nconv2d_9 (Conv2D)            (None, 60, 60, 16)        4624      \n_________________________________________________________________\nconv2d_10 (Conv2D)           (None, 58, 58, 8)         1160      \n_________________________________________________________________\ndense_8 (Dense)              (None, 58, 58, 32)        288       \n_________________________________________________________________\ndense_9 (Dense)              (None, 58, 58, 2)         66        \n=================================================================\nTotal params: 7,034\nTrainable params: 7,034\nNon-trainable params: 0\n_________________________________________________________________\n"
     ]
    }
   ],
   "source": [
    "a.build_self(top_list).summary()"
   ]
  },
  {
   "cell_type": "code",
   "execution_count": null,
   "metadata": {},
   "outputs": [],
   "source": []
  }
 ]
}