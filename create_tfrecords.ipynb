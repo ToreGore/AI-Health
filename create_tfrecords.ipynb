{
 "metadata": {
  "language_info": {
   "codemirror_mode": {
    "name": "ipython",
    "version": 3
   },
   "file_extension": ".py",
   "mimetype": "text/x-python",
   "name": "python",
   "nbconvert_exporter": "python",
   "pygments_lexer": "ipython3",
   "version": "3.8.2"
  },
  "orig_nbformat": 2,
  "kernelspec": {
   "name": "python382jvsc74a57bd0885e59b4117422d4ddb743cd3083a9f7c4f583d62da3718482f61dc5ec76cf03",
   "display_name": "Python 3.8.2 64-bit"
  },
  "metadata": {
   "interpreter": {
    "hash": "885e59b4117422d4ddb743cd3083a9f7c4f583d62da3718482f61dc5ec76cf03"
   }
  }
 },
 "nbformat": 4,
 "nbformat_minor": 2,
 "cells": [
  {
   "source": [
    "# Create TFREcord\n",
    "* Useful to store sequence of binary records\n",
    "* "
   ],
   "cell_type": "markdown",
   "metadata": {}
  },
  {
   "cell_type": "code",
   "execution_count": 14,
   "metadata": {},
   "outputs": [],
   "source": [
    "import os\n",
    "from os.path import join, dirname\n",
    "import tensorflow as tf\n",
    "import time\n",
    "from tensorflow.keras.layers import Input, Conv2D, BatchNormalization, Dense\n",
    "from tensorflow.keras.layers import AvgPool2D, GlobalAveragePooling2D, MaxPool2D\n",
    "from tensorflow.keras.models import Model\n",
    "from tensorflow.keras.layers import ReLU, concatenate\n",
    "import tensorflow.keras.backend as K\n",
    "import numpy as np                                    \n",
    "import pandas as pd \n",
    "import os\n",
    "import random\n",
    "import cv2\n",
    "from tensorflow.keras.preprocessing.image import ImageDataGenerator,img_to_array\n",
    "from tensorflow.keras.callbacks import ModelCheckpoint, ReduceLROnPlateau\n",
    "from sklearn.model_selection import train_test_split\n",
    "from sklearn.preprocessing import LabelEncoder\n",
    "import warnings\n",
    "from sklearn.preprocessing import MultiLabelBinarizer, LabelBinarizer\n",
    "warnings.filterwarnings(\"ignore\")"
   ]
  },
  {
   "source": [
    "## Load Traning Metadata"
   ],
   "cell_type": "markdown",
   "metadata": {}
  },
  {
   "cell_type": "code",
   "execution_count": 15,
   "metadata": {},
   "outputs": [
    {
     "output_type": "execute_result",
     "data": {
      "text/plain": [
       "   Unnamed: 0    image_name  patient_id     sex  age_approx  \\\n",
       "1           1  ISIC_0015719  IP_3075186  female        45.0   \n",
       "2           2  ISIC_0052212  IP_2842074  female        50.0   \n",
       "3           3  ISIC_0068279  IP_6890425  female        45.0   \n",
       "4           4  ISIC_0074268  IP_8723313  female        55.0   \n",
       "5           5  ISIC_0074311  IP_2950485  female        40.0   \n",
       "\n",
       "  anatom_site_general diagnosis benign_malignant  target  \n",
       "1     upper extremity   unknown           benign       0  \n",
       "2     lower extremity     nevus           benign       0  \n",
       "3           head/neck   unknown           benign       0  \n",
       "4     upper extremity   unknown           benign       0  \n",
       "5     lower extremity   unknown           benign       0  "
      ],
      "text/html": "<div>\n<style scoped>\n    .dataframe tbody tr th:only-of-type {\n        vertical-align: middle;\n    }\n\n    .dataframe tbody tr th {\n        vertical-align: top;\n    }\n\n    .dataframe thead th {\n        text-align: right;\n    }\n</style>\n<table border=\"1\" class=\"dataframe\">\n  <thead>\n    <tr style=\"text-align: right;\">\n      <th></th>\n      <th>Unnamed: 0</th>\n      <th>image_name</th>\n      <th>patient_id</th>\n      <th>sex</th>\n      <th>age_approx</th>\n      <th>anatom_site_general</th>\n      <th>diagnosis</th>\n      <th>benign_malignant</th>\n      <th>target</th>\n    </tr>\n  </thead>\n  <tbody>\n    <tr>\n      <th>1</th>\n      <td>1</td>\n      <td>ISIC_0015719</td>\n      <td>IP_3075186</td>\n      <td>female</td>\n      <td>45.0</td>\n      <td>upper extremity</td>\n      <td>unknown</td>\n      <td>benign</td>\n      <td>0</td>\n    </tr>\n    <tr>\n      <th>2</th>\n      <td>2</td>\n      <td>ISIC_0052212</td>\n      <td>IP_2842074</td>\n      <td>female</td>\n      <td>50.0</td>\n      <td>lower extremity</td>\n      <td>nevus</td>\n      <td>benign</td>\n      <td>0</td>\n    </tr>\n    <tr>\n      <th>3</th>\n      <td>3</td>\n      <td>ISIC_0068279</td>\n      <td>IP_6890425</td>\n      <td>female</td>\n      <td>45.0</td>\n      <td>head/neck</td>\n      <td>unknown</td>\n      <td>benign</td>\n      <td>0</td>\n    </tr>\n    <tr>\n      <th>4</th>\n      <td>4</td>\n      <td>ISIC_0074268</td>\n      <td>IP_8723313</td>\n      <td>female</td>\n      <td>55.0</td>\n      <td>upper extremity</td>\n      <td>unknown</td>\n      <td>benign</td>\n      <td>0</td>\n    </tr>\n    <tr>\n      <th>5</th>\n      <td>5</td>\n      <td>ISIC_0074311</td>\n      <td>IP_2950485</td>\n      <td>female</td>\n      <td>40.0</td>\n      <td>lower extremity</td>\n      <td>unknown</td>\n      <td>benign</td>\n      <td>0</td>\n    </tr>\n  </tbody>\n</table>\n</div>"
     },
     "metadata": {},
     "execution_count": 15
    }
   ],
   "source": [
    "# Load the training dataset\n",
    "path = os.getcwd()+\"\\cleaned_isic.csv\"\n",
    "y_train = pd.read_csv(path)\n",
    "\n",
    "# Renaming\n",
    "y_train.rename({'anatom_site_general_challenge':'anatom_site_general'},axis=1,inplace=True)\n",
    "\n",
    "# Sort values by image name\n",
    "y_train.sort_values(by=['image_name'], inplace=True)\n",
    "\n",
    "# Display the dataset.\n",
    "y_train.head()"
   ]
  },
  {
   "cell_type": "code",
   "execution_count": 16,
   "metadata": {},
   "outputs": [
    {
     "output_type": "stream",
     "name": "stdout",
     "text": [
      "30032 training images.\n"
     ]
    }
   ],
   "source": [
    "# Create a list of image ids contained in the dataset\n",
    "image_id_list = y_train[\"image_name\"].tolist()\n",
    "print(\"{} training images.\".format(len(image_id_list)))"
   ]
  },
  {
   "source": [
    "## Load testing metadata"
   ],
   "cell_type": "markdown",
   "metadata": {}
  },
  {
   "cell_type": "code",
   "execution_count": 17,
   "metadata": {},
   "outputs": [
    {
     "output_type": "execute_result",
     "data": {
      "text/plain": [
       "   Unnamed: 0    image_name  patient_id     sex  age_approx  \\\n",
       "0          78  ISIC_0125706  IP_4096093  female        60.0   \n",
       "1          85  ISIC_0148465  IP_1517386    male        40.0   \n",
       "2         112  ISIC_0155173  IP_1730314    male        30.0   \n",
       "3         148  ISIC_0164603  IP_6648913  female        75.0   \n",
       "4         161  ISIC_0168418  IP_1697215  female        45.0   \n",
       "\n",
       "  anatom_site_general diagnosis benign_malignant  target  \n",
       "0               torso   unknown           benign       0  \n",
       "1           head/neck   unknown           benign       0  \n",
       "2     upper extremity   unknown           benign       0  \n",
       "3     upper extremity   unknown           benign       0  \n",
       "4     lower extremity   unknown           benign       0  "
      ],
      "text/html": "<div>\n<style scoped>\n    .dataframe tbody tr th:only-of-type {\n        vertical-align: middle;\n    }\n\n    .dataframe tbody tr th {\n        vertical-align: top;\n    }\n\n    .dataframe thead th {\n        text-align: right;\n    }\n</style>\n<table border=\"1\" class=\"dataframe\">\n  <thead>\n    <tr style=\"text-align: right;\">\n      <th></th>\n      <th>Unnamed: 0</th>\n      <th>image_name</th>\n      <th>patient_id</th>\n      <th>sex</th>\n      <th>age_approx</th>\n      <th>anatom_site_general</th>\n      <th>diagnosis</th>\n      <th>benign_malignant</th>\n      <th>target</th>\n    </tr>\n  </thead>\n  <tbody>\n    <tr>\n      <th>0</th>\n      <td>78</td>\n      <td>ISIC_0125706</td>\n      <td>IP_4096093</td>\n      <td>female</td>\n      <td>60.0</td>\n      <td>torso</td>\n      <td>unknown</td>\n      <td>benign</td>\n      <td>0</td>\n    </tr>\n    <tr>\n      <th>1</th>\n      <td>85</td>\n      <td>ISIC_0148465</td>\n      <td>IP_1517386</td>\n      <td>male</td>\n      <td>40.0</td>\n      <td>head/neck</td>\n      <td>unknown</td>\n      <td>benign</td>\n      <td>0</td>\n    </tr>\n    <tr>\n      <th>2</th>\n      <td>112</td>\n      <td>ISIC_0155173</td>\n      <td>IP_1730314</td>\n      <td>male</td>\n      <td>30.0</td>\n      <td>upper extremity</td>\n      <td>unknown</td>\n      <td>benign</td>\n      <td>0</td>\n    </tr>\n    <tr>\n      <th>3</th>\n      <td>148</td>\n      <td>ISIC_0164603</td>\n      <td>IP_6648913</td>\n      <td>female</td>\n      <td>75.0</td>\n      <td>upper extremity</td>\n      <td>unknown</td>\n      <td>benign</td>\n      <td>0</td>\n    </tr>\n    <tr>\n      <th>4</th>\n      <td>161</td>\n      <td>ISIC_0168418</td>\n      <td>IP_1697215</td>\n      <td>female</td>\n      <td>45.0</td>\n      <td>lower extremity</td>\n      <td>unknown</td>\n      <td>benign</td>\n      <td>0</td>\n    </tr>\n  </tbody>\n</table>\n</div>"
     },
     "metadata": {},
     "execution_count": 17
    }
   ],
   "source": [
    "# Load the test dataset\n",
    "path_test_AA = os.getcwd()+\"/test_ISIC_AA.csv\"\n",
    "test_meta_AA = pd.read_csv(path_test_AA)\n",
    "path_test_A = os.getcwd()+\"/test_ISIC_A.csv\"\n",
    "test_meta_A = pd.read_csv(path_test_A)\n",
    "\n",
    "# Renaming\n",
    "test_meta_AA.rename({'anatom_site_general_challenge':'anatom_site_general'},axis=1,inplace=True)\n",
    "test_meta_A.rename({'anatom_site_general_challenge':'anatom_site_general'},axis=1,inplace=True)\n",
    "\n",
    "\n",
    "# Sort values by image name\n",
    "test_meta_AA.sort_values(by=['image_name'], inplace=True)\n",
    "test_meta_A.sort_values(by=['image_name'], inplace=True)\n",
    "\n",
    "# Display the dataset.\n",
    "test_meta_AA.head()"
   ]
  },
  {
   "cell_type": "code",
   "execution_count": 18,
   "metadata": {},
   "outputs": [
    {
     "output_type": "stream",
     "name": "stdout",
     "text": [
      "826 test AA images.\n1921 test A images.\n"
     ]
    }
   ],
   "source": [
    "# Create a list of TEST image ids contained in the dataset\n",
    "test_AA_ids = test_meta_AA[\"image_name\"].tolist()\n",
    "print(\"{} test AA images.\".format(len(test_AA_ids)))\n",
    "test_A_ids = test_meta_A[\"image_name\"].tolist()\n",
    "print(\"{} test A images.\".format(len(test_A_ids)))"
   ]
  },
  {
   "source": [
    "## Encode cathegorical values:"
   ],
   "cell_type": "markdown",
   "metadata": {}
  },
  {
   "cell_type": "code",
   "execution_count": 19,
   "metadata": {},
   "outputs": [
    {
     "output_type": "stream",
     "name": "stdout",
     "text": [
      "Imputing Age NaN count = 44\n"
     ]
    }
   ],
   "source": [
    "# Categorical columns\n",
    "cats = ['patient_id','sex','anatom_site_general', \"diagnosis\", \"benign_malignant\"]\n",
    "\n",
    "# Convert categorical values to numerical values\n",
    "counter = 0; \n",
    "for c in cats:\n",
    "    y_train[c],mp = y_train[c].factorize()\n",
    "    test_meta_AA[c],mp2 = test_meta_AA[c].factorize()\n",
    "    test_meta_A[c],mp3 = test_meta_A[c].factorize()\n",
    "    counter += 1\n",
    "\n",
    "# Fill the null age values with its mean\n",
    "print('Imputing Age NaN count =',y_train.age_approx.isnull().sum())\n",
    "\n",
    "y_train[\"age_approx\"].fillna(y_train.age_approx.astype(float).mean(),inplace=True)\n",
    "test_meta_AA[\"age_approx\"].fillna(test_meta_AA.age_approx.astype(float).mean(),inplace=True)\n",
    "test_meta_A[\"age_approx\"].fillna(test_meta_A.age_approx.astype(float).mean(),inplace=True)\n",
    "\n",
    "y_train['age_approx'] = y_train.age_approx.astype('int')\n",
    "test_meta_AA['age_approx'] = test_meta_AA.age_approx.astype('int')\n",
    "test_meta_A['age_approx'] = test_meta_A.age_approx.astype('int')"
   ]
  },
  {
   "source": [
    "## Write TFRecords (Train & Test)"
   ],
   "cell_type": "markdown",
   "metadata": {}
  },
  {
   "cell_type": "code",
   "execution_count": 20,
   "metadata": {},
   "outputs": [],
   "source": [
    "# Functions to convert a value to a type compatible with tf.train.Example\n",
    "def _bytes_feature(value):\n",
    "  \"\"\"Returns a bytes_list from a string / byte.\"\"\"\n",
    "  if isinstance(value, type(tf.constant(0))):\n",
    "    value = value.numpy() # BytesList won't unpack a string from an EagerTensor.\n",
    "  return tf.train.Feature(bytes_list=tf.train.BytesList(value=[value]))\n",
    "\n",
    "def _float_feature(value):\n",
    "  \"\"\"Returns a float_list from a float / double.\"\"\"\n",
    "  return tf.train.Feature(float_list=tf.train.FloatList(value=[value]))\n",
    "\n",
    "def _int64_feature(value):\n",
    "  \"\"\"Returns an int64_list from a bool / enum / int / uint.\"\"\"\n",
    "  return tf.train.Feature(int64_list=tf.train.Int64List(value=[value]))"
   ]
  },
  {
   "cell_type": "code",
   "execution_count": 21,
   "metadata": {},
   "outputs": [],
   "source": [
    "# Generate flexible message type with a feature mapping\n",
    "def serialize_example(feature0, feature1, feature2, feature3, feature4, feature5, feature6, feature7):\n",
    "    \"\"\"\n",
    "    INPUT:  feature0:   the encoded image\n",
    "            feature1:   the image name\n",
    "            feature2:   the patient id\n",
    "            feature3:   sex of the patient\n",
    "            fature4:    age of the patient\n",
    "            feature5:   anatomic site of area to inspect\n",
    "            feature6:   the diagnosis\n",
    "            feature7:   the target \\in [0,1]\n",
    "    OUTPUT: message type with feature mapping\n",
    "    \"\"\"\n",
    "    feature = {\n",
    "      'image': _bytes_feature(feature0),\n",
    "      'image_name': _bytes_feature(feature1),\n",
    "      'patient_id': _int64_feature(feature2),\n",
    "      'sex': _int64_feature(feature3),\n",
    "      'age_approx': _int64_feature(feature4),\n",
    "      'anatom_site_general': _int64_feature(feature5),\n",
    "      'diagnosis': _int64_feature(feature6),\n",
    "      'target': _int64_feature(feature7)\n",
    "      }\n",
    "    example_proto = tf.train.Example(features=tf.train.Features(feature=feature))\n",
    "    return example_proto.SerializeToString()"
   ]
  },
  {
   "cell_type": "code",
   "execution_count": 22,
   "metadata": {},
   "outputs": [],
   "source": [
    "# @TODO to run update your train and test path to your train and test images\n",
    "SIZE = 200 # How many images will be stored in one TFRecord\n",
    "TRAIN_PATH = \"C:\\\\Users\\\\clara\\\\DataSets\\\\ISIC_2020_Training_JPEG\\\\train\\\\\"\n",
    "#TEST_PATH = \"C:\\\\Users\\\\clara\\\\DataSets\\\\ISIC_2020_Test_JPEG\\\\ISIC_2020_Test_Input\\\\\"\n",
    "\n",
    "# Get a sorted list of image names\n",
    "IMGS = sorted(list(os.listdir(TRAIN_PATH)))\n",
    "#IMGS_TEST = sorted(list(os.listdir(TEST_PATH)))\n",
    "\n",
    "# Remove unknown diagnosis (not contained in the cleaned_isic.csv file)\n",
    "IMGS = [i for i in IMGS if i[0:-4] in image_id_list]"
   ]
  },
  {
   "cell_type": "code",
   "execution_count": 11,
   "metadata": {},
   "outputs": [
    {
     "output_type": "stream",
     "name": "stdout",
     "text": [
      "30032\n"
     ]
    }
   ],
   "source": [
    "print(len(IMGS))"
   ]
  },
  {
   "source": [
    "## Write Records"
   ],
   "cell_type": "markdown",
   "metadata": {}
  },
  {
   "cell_type": "code",
   "execution_count": 38,
   "metadata": {},
   "outputs": [],
   "source": [
    "def write_tfrecords(IMGS, SIZE, csv_file, in_path, out_path):\n",
    "   # How many TFREcords will be written\n",
    "    CT = len(IMGS)//SIZE + int(len(IMGS)%SIZE!=0)\n",
    "\n",
    "    # Write the TFRecords\n",
    "    for j in range(CT):\n",
    "        print(); print('Writing TFRecord %i of %i...'%(j,CT))\n",
    "\n",
    "        # Checks if the current Record is filled or if its the last record and its not completely filled.\n",
    "        CT2 = min(SIZE,len(IMGS)-j*SIZE)\n",
    "        # Name of the record to write\n",
    "        with tf.io.TFRecordWriter(out_path + '%.2i-%i.tfrec'%(j,CT2)) as writer:\n",
    "            for k in range(CT2):\n",
    "                # Open the current Image\n",
    "                img = cv2.imread(in_path+IMGS[SIZE*j+k])\n",
    "                img = cv2.cvtColor(img, cv2.COLOR_RGB2BGR)\n",
    "                # Resize all images\n",
    "                img = cv2.resize(img, (512, 512))\n",
    "                # Encode the image \n",
    "                img = cv2.imencode('.jpg', img, (cv2.IMWRITE_JPEG_QUALITY, 94))[1].tostring()\n",
    "                name = IMGS[SIZE*j+k].split('.')[0]\n",
    "                row = csv_file.loc[csv_file.image_name==name]\n",
    "                # Create flexible feature mapping message\n",
    "                example = serialize_example(\n",
    "                    img, str.encode(name),\n",
    "                    row.patient_id.values[0],\n",
    "                    row.sex.values[0],\n",
    "                    row.age_approx.values[0],                        \n",
    "                    row.anatom_site_general.values[0],\n",
    "                    row.diagnosis.values[0],\n",
    "                    row.target.values[0])\n",
    "                writer.write(example)\n",
    "            if k%100==0: print(k,', ',end='') "
   ]
  },
  {
   "cell_type": "code",
   "execution_count": null,
   "metadata": {},
   "outputs": [],
   "source": [
    "# @TODO to run update your train and test path to your train and test images\n",
    "SIZE_1 = 200 # How many images will be stored in one TFRecord\n",
    "SIZE_2 = 1000\n",
    "TRAIN_PATH = \"C:\\\\Users\\\\clara\\\\DataSets\\\\ISIC_2020_Training_JPEG\\\\train\\\\\"\n",
    "OUT_PATH_1 = \"tfrecords/train/200/train\"\n",
    "OUT_PATH_2 = \"tfrecords/train/1000/train\"\n",
    "\n",
    "# Get a sorted list of image names\n",
    "IMGS = sorted(list(os.listdir(TRAIN_PATH)))\n",
    "#IMGS_TEST = sorted(list(os.listdir(TEST_PATH)))\n",
    "\n",
    "# Remove unknown diagnosis (not contained in the cleaned_isic.csv file)\n",
    "IMGS = [i for i in IMGS if i[0:-4] in image_id_list]\n",
    "write_tfrecords(IMGS, SIZE_1, y_train, TRAIN_PATH, OUT_PATH_1)\n",
    "write_tfrecords(IMGS, SIZE_2, y_train, TRAIN_PATH, OUT_PATH_2)"
   ]
  },
  {
   "cell_type": "code",
   "execution_count": 39,
   "metadata": {
    "tags": []
   },
   "outputs": [
    {
     "output_type": "stream",
     "name": "stdout",
     "text": [
      "\n",
      "Writing TFRecord 0 of 17...\n",
      "\n",
      "Writing TFRecord 1 of 17...\n",
      "\n",
      "Writing TFRecord 2 of 17...\n",
      "\n",
      "Writing TFRecord 3 of 17...\n",
      "\n",
      "Writing TFRecord 4 of 17...\n",
      "\n",
      "Writing TFRecord 5 of 17...\n",
      "\n",
      "Writing TFRecord 6 of 17...\n",
      "\n",
      "Writing TFRecord 7 of 17...\n",
      "\n",
      "Writing TFRecord 8 of 17...\n",
      "\n",
      "Writing TFRecord 9 of 17...\n",
      "\n",
      "Writing TFRecord 10 of 17...\n",
      "\n",
      "Writing TFRecord 11 of 17...\n",
      "\n",
      "Writing TFRecord 12 of 17...\n",
      "\n",
      "Writing TFRecord 13 of 17...\n",
      "\n",
      "Writing TFRecord 14 of 17...\n",
      "\n",
      "Writing TFRecord 15 of 17...\n",
      "\n",
      "Writing TFRecord 16 of 17...\n",
      "\n",
      "Writing TFRecord 0 of 39...\n",
      "\n",
      "Writing TFRecord 1 of 39...\n",
      "\n",
      "Writing TFRecord 2 of 39...\n",
      "\n",
      "Writing TFRecord 3 of 39...\n",
      "\n",
      "Writing TFRecord 4 of 39...\n",
      "\n",
      "Writing TFRecord 5 of 39...\n",
      "\n",
      "Writing TFRecord 6 of 39...\n",
      "\n",
      "Writing TFRecord 7 of 39...\n",
      "\n",
      "Writing TFRecord 8 of 39...\n",
      "\n",
      "Writing TFRecord 9 of 39...\n",
      "\n",
      "Writing TFRecord 10 of 39...\n",
      "\n",
      "Writing TFRecord 11 of 39...\n",
      "\n",
      "Writing TFRecord 12 of 39...\n",
      "\n",
      "Writing TFRecord 13 of 39...\n",
      "\n",
      "Writing TFRecord 14 of 39...\n",
      "\n",
      "Writing TFRecord 15 of 39...\n",
      "\n",
      "Writing TFRecord 16 of 39...\n",
      "\n",
      "Writing TFRecord 17 of 39...\n",
      "\n",
      "Writing TFRecord 18 of 39...\n",
      "\n",
      "Writing TFRecord 19 of 39...\n",
      "\n",
      "Writing TFRecord 20 of 39...\n",
      "\n",
      "Writing TFRecord 21 of 39...\n",
      "\n",
      "Writing TFRecord 22 of 39...\n",
      "\n",
      "Writing TFRecord 23 of 39...\n",
      "\n",
      "Writing TFRecord 24 of 39...\n",
      "\n",
      "Writing TFRecord 25 of 39...\n",
      "\n",
      "Writing TFRecord 26 of 39...\n",
      "\n",
      "Writing TFRecord 27 of 39...\n",
      "\n",
      "Writing TFRecord 28 of 39...\n",
      "\n",
      "Writing TFRecord 29 of 39...\n",
      "\n",
      "Writing TFRecord 30 of 39...\n",
      "\n",
      "Writing TFRecord 31 of 39...\n",
      "\n",
      "Writing TFRecord 32 of 39...\n",
      "\n",
      "Writing TFRecord 33 of 39...\n",
      "\n",
      "Writing TFRecord 34 of 39...\n",
      "\n",
      "Writing TFRecord 35 of 39...\n",
      "\n",
      "Writing TFRecord 36 of 39...\n",
      "\n",
      "Writing TFRecord 37 of 39...\n",
      "\n",
      "Writing TFRecord 38 of 39...\n",
      "None\n"
     ]
    }
   ],
   "source": [
    "# @TODO to run update your train and test path to your train and test images\n",
    "SIZE_TEST = 50 # How many images will be stored in one TFRecord\n",
    "TRAIN_PATH = \"C:\\\\Users\\\\clara\\\\DataSets\\\\ISIC_2020_Training_JPEG\\\\train\\\\\"\n",
    "OUT_PATH_AA = \"tfrecords/test/AA/50/test\"\n",
    "OUT_PATH_A = \"tfrecords/test/A/50/test\"\n",
    "\n",
    "IMGS_TEST = sorted(list(os.listdir(TRAIN_PATH)))\n",
    "# Remove unknown diagnosis (not contained in the cleaned_isic.csv file)\n",
    "IMGS_AA = [i for i in IMGS_TEST if i[0:-4] in test_AA_ids]\n",
    "IMGS_A = [i for i in IMGS_TEST if i[0:-4] in test_A_ids]\n",
    "\n",
    "write_tfrecords(IMGS_AA, SIZE_TEST, test_meta_AA, TRAIN_PATH, OUT_PATH_AA)\n",
    "write_tfrecords(IMGS_A, SIZE_TEST, test_meta_A, TRAIN_PATH, OUT_PATH_A)\n",
    "print(x)"
   ]
  },
  {
   "cell_type": "code",
   "execution_count": null,
   "metadata": {},
   "outputs": [],
   "source": []
  }
 ]
}