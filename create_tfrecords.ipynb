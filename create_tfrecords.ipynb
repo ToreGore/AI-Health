{
 "metadata": {
  "language_info": {
   "codemirror_mode": {
    "name": "ipython",
    "version": 3
   },
   "file_extension": ".py",
   "mimetype": "text/x-python",
   "name": "python",
   "nbconvert_exporter": "python",
   "pygments_lexer": "ipython3",
   "version": "3.7.7-final"
  },
  "orig_nbformat": 2,
  "kernelspec": {
   "name": "python3",
   "display_name": "Python 3",
   "language": "python"
  }
 },
 "nbformat": 4,
 "nbformat_minor": 2,
 "cells": [
  {
   "cell_type": "code",
   "execution_count": null,
   "metadata": {},
   "outputs": [],
   "source": [
    "# Create TFREcord\n",
    "* Useful to store sequence of binary records\n",
    "* "
   ]
  },
  {
   "cell_type": "code",
   "execution_count": 70,
   "metadata": {},
   "outputs": [],
   "source": [
    "import os\n",
    "from os.path import join, dirname\n",
    "import tensorflow as tf\n",
    "import time\n",
    "from tensorflow.keras.layers import Input, Conv2D, BatchNormalization, Dense\n",
    "from tensorflow.keras.layers import AvgPool2D, GlobalAveragePooling2D, MaxPool2D\n",
    "from tensorflow.keras.models import Model\n",
    "from tensorflow.keras.layers import ReLU, concatenate\n",
    "import tensorflow.keras.backend as K\n",
    "import numpy as np                                    \n",
    "import pandas as pd \n",
    "import os\n",
    "import random\n",
    "import cv2\n",
    "from tensorflow.keras.preprocessing.image import ImageDataGenerator,img_to_array\n",
    "from tensorflow.keras.callbacks import ModelCheckpoint, ReduceLROnPlateau\n",
    "from sklearn.model_selection import train_test_split\n",
    "from sklearn.preprocessing import LabelEncoder\n",
    "import warnings\n",
    "from sklearn.preprocessing import MultiLabelBinarizer, LabelBinarizer\n",
    "warnings.filterwarnings(\"ignore\")"
   ]
  },
  {
   "source": [
    "## Load Traning Metadata"
   ],
   "cell_type": "markdown",
   "metadata": {}
  },
  {
   "cell_type": "code",
   "execution_count": 71,
   "metadata": {},
   "outputs": [
    {
     "output_type": "execute_result",
     "data": {
      "text/plain": [
       "   Unnamed: 0    image_name  patient_id     sex  age_approx  \\\n",
       "0           2  ISIC_0052212  IP_2842074  female        50.0   \n",
       "1          12  ISIC_0076995  IP_2235340  female        55.0   \n",
       "2          26  ISIC_0084086  IP_4023055    male        60.0   \n",
       "3          27  ISIC_0084270  IP_2961528    male        40.0   \n",
       "4          28  ISIC_0084395  IP_0175539  female        45.0   \n",
       "\n",
       "  anatom_site_general diagnosis benign_malignant  target  \n",
       "0     lower extremity     nevus           benign       0  \n",
       "1               torso     nevus           benign       0  \n",
       "2     lower extremity     nevus           benign       0  \n",
       "3     lower extremity     nevus           benign       0  \n",
       "4               torso     nevus           benign       0  "
      ],
      "text/html": "<div>\n<style scoped>\n    .dataframe tbody tr th:only-of-type {\n        vertical-align: middle;\n    }\n\n    .dataframe tbody tr th {\n        vertical-align: top;\n    }\n\n    .dataframe thead th {\n        text-align: right;\n    }\n</style>\n<table border=\"1\" class=\"dataframe\">\n  <thead>\n    <tr style=\"text-align: right;\">\n      <th></th>\n      <th>Unnamed: 0</th>\n      <th>image_name</th>\n      <th>patient_id</th>\n      <th>sex</th>\n      <th>age_approx</th>\n      <th>anatom_site_general</th>\n      <th>diagnosis</th>\n      <th>benign_malignant</th>\n      <th>target</th>\n    </tr>\n  </thead>\n  <tbody>\n    <tr>\n      <th>0</th>\n      <td>2</td>\n      <td>ISIC_0052212</td>\n      <td>IP_2842074</td>\n      <td>female</td>\n      <td>50.0</td>\n      <td>lower extremity</td>\n      <td>nevus</td>\n      <td>benign</td>\n      <td>0</td>\n    </tr>\n    <tr>\n      <th>1</th>\n      <td>12</td>\n      <td>ISIC_0076995</td>\n      <td>IP_2235340</td>\n      <td>female</td>\n      <td>55.0</td>\n      <td>torso</td>\n      <td>nevus</td>\n      <td>benign</td>\n      <td>0</td>\n    </tr>\n    <tr>\n      <th>2</th>\n      <td>26</td>\n      <td>ISIC_0084086</td>\n      <td>IP_4023055</td>\n      <td>male</td>\n      <td>60.0</td>\n      <td>lower extremity</td>\n      <td>nevus</td>\n      <td>benign</td>\n      <td>0</td>\n    </tr>\n    <tr>\n      <th>3</th>\n      <td>27</td>\n      <td>ISIC_0084270</td>\n      <td>IP_2961528</td>\n      <td>male</td>\n      <td>40.0</td>\n      <td>lower extremity</td>\n      <td>nevus</td>\n      <td>benign</td>\n      <td>0</td>\n    </tr>\n    <tr>\n      <th>4</th>\n      <td>28</td>\n      <td>ISIC_0084395</td>\n      <td>IP_0175539</td>\n      <td>female</td>\n      <td>45.0</td>\n      <td>torso</td>\n      <td>nevus</td>\n      <td>benign</td>\n      <td>0</td>\n    </tr>\n  </tbody>\n</table>\n</div>"
     },
     "metadata": {},
     "execution_count": 71
    }
   ],
   "source": [
    "# Load the training dataset\n",
    "path = os.getcwd()+\"\\cleaned_isic.csv\"\n",
    "y_train = pd.read_csv(path)\n",
    "\n",
    "# Renaming\n",
    "y_train.rename({'anatom_site_general_challenge':'anatom_site_general'},axis=1,inplace=True)\n",
    "\n",
    "# Sort values by image name\n",
    "y_train.sort_values(by=['image_name'], inplace=True)\n",
    "\n",
    "# Display the dataset.\n",
    "y_train.head()"
   ]
  },
  {
   "cell_type": "code",
   "execution_count": 72,
   "metadata": {},
   "outputs": [
    {
     "output_type": "stream",
     "name": "stdout",
     "text": [
      "6002 training images.\n"
     ]
    }
   ],
   "source": [
    "# Create a list of image ids contained in the dataset\n",
    "image_id_list = y_train[\"image_name\"].tolist()\n",
    "print(\"{} training images.\".format(len(image_id_list)))"
   ]
  },
  {
   "source": [
    "## Load testing metadata"
   ],
   "cell_type": "markdown",
   "metadata": {}
  },
  {
   "cell_type": "code",
   "execution_count": 73,
   "metadata": {},
   "outputs": [
    {
     "output_type": "execute_result",
     "data": {
      "text/plain": [
       "     image_name  patient_id  age_approx anatom_site_general     sex\n",
       "0  ISIC_0052060  IP_3579794          70                 NaN    male\n",
       "1  ISIC_0052349  IP_7782715          40     lower extremity    male\n",
       "2  ISIC_0058510  IP_7960270          55               torso  female\n",
       "3  ISIC_0073313  IP_6375035          50               torso  female\n",
       "4  ISIC_0073502  IP_0589375          45     lower extremity  female"
      ],
      "text/html": "<div>\n<style scoped>\n    .dataframe tbody tr th:only-of-type {\n        vertical-align: middle;\n    }\n\n    .dataframe tbody tr th {\n        vertical-align: top;\n    }\n\n    .dataframe thead th {\n        text-align: right;\n    }\n</style>\n<table border=\"1\" class=\"dataframe\">\n  <thead>\n    <tr style=\"text-align: right;\">\n      <th></th>\n      <th>image_name</th>\n      <th>patient_id</th>\n      <th>age_approx</th>\n      <th>anatom_site_general</th>\n      <th>sex</th>\n    </tr>\n  </thead>\n  <tbody>\n    <tr>\n      <th>0</th>\n      <td>ISIC_0052060</td>\n      <td>IP_3579794</td>\n      <td>70</td>\n      <td>NaN</td>\n      <td>male</td>\n    </tr>\n    <tr>\n      <th>1</th>\n      <td>ISIC_0052349</td>\n      <td>IP_7782715</td>\n      <td>40</td>\n      <td>lower extremity</td>\n      <td>male</td>\n    </tr>\n    <tr>\n      <th>2</th>\n      <td>ISIC_0058510</td>\n      <td>IP_7960270</td>\n      <td>55</td>\n      <td>torso</td>\n      <td>female</td>\n    </tr>\n    <tr>\n      <th>3</th>\n      <td>ISIC_0073313</td>\n      <td>IP_6375035</td>\n      <td>50</td>\n      <td>torso</td>\n      <td>female</td>\n    </tr>\n    <tr>\n      <th>4</th>\n      <td>ISIC_0073502</td>\n      <td>IP_0589375</td>\n      <td>45</td>\n      <td>lower extremity</td>\n      <td>female</td>\n    </tr>\n  </tbody>\n</table>\n</div>"
     },
     "metadata": {},
     "execution_count": 73
    }
   ],
   "source": [
    "# Load the test dataset\n",
    "path_test = os.getcwd()+\"\\ISIC_2020_Test_Metadata.csv\"\n",
    "test_meta = pd.read_csv(path_test)\n",
    "\n",
    "# Renaming\n",
    "test_meta.rename({'image':'image_name'},axis=1,inplace=True)\n",
    "test_meta.rename({'patient':'patient_id'},axis=1,inplace=True)\n",
    "\n",
    "# Sort values by image name\n",
    "test_meta.sort_values(by=['image_name'], inplace=True)\n",
    "\n",
    "# Display the dataset.\n",
    "test_meta.head()"
   ]
  },
  {
   "source": [
    "## Encode cathegorical values:"
   ],
   "cell_type": "markdown",
   "metadata": {}
  },
  {
   "cell_type": "code",
   "execution_count": 74,
   "metadata": {},
   "outputs": [
    {
     "output_type": "stream",
     "name": "stdout",
     "text": [
      "Index(['IP_2842074', 'IP_2235340', 'IP_4023055', 'IP_2961528', 'IP_0175539',\n       'IP_2825529', 'IP_3933152', 'IP_3076695', 'IP_4042098', 'IP_1273286',\n       ...\n       'IP_3222187', 'IP_0733805', 'IP_6814737', 'IP_9327025', 'IP_2772363',\n       'IP_9362467', 'IP_2172761', 'IP_3298186', 'IP_6776978', 'IP_7507212'],\n      dtype='object', length=1224)\nIndex(['female', 'male'], dtype='object')\nIndex(['lower extremity', 'torso', 'upper extremity', 'head/neck',\n       'palms/soles', 'oral/genital'],\n      dtype='object')\nIndex(['nevus', 'melanoma', 'seborrheic keratosis', 'lentigo NOS',\n       'lichenoid keratosis', 'solar lentigo', 'cafe-au-lait macule',\n       'atypical melanocytic proliferation'],\n      dtype='object')\nIndex(['benign', 'malignant'], dtype='object')\nImputing Age NaN count = 3\n"
     ]
    }
   ],
   "source": [
    "# Categorical columns\n",
    "cats = ['patient_id','sex','anatom_site_general', \"diagnosis\", \"benign_malignant\"]\n",
    "\n",
    "# Convert categorical values to numerical values\n",
    "counter = 0; \n",
    "for c in cats:\n",
    "    y_train[c],mp = y_train[c].factorize()\n",
    "    # Since the test dataset does not conatin the columns \"diagnosis\", \"benign_malignant\"\n",
    "    if (counter <= 2):\n",
    "        test_meta[c],mp2 = test_meta[c].factorize()\n",
    "    counter += 1\n",
    "    print(mp)\n",
    "\n",
    "# Fill the null age values with its mean\n",
    "print('Imputing Age NaN count =',y_train.age_approx.isnull().sum())\n",
    "\n",
    "y_train[\"age_approx\"].fillna(y_train.age_approx.astype(float).mean(),inplace=True)\n",
    "test_meta[\"age_approx\"].fillna(test_meta.age_approx.astype(float).mean(),inplace=True)\n",
    "\n",
    "y_train['age_approx'] = y_train.age_approx.astype('int')\n",
    "test_meta['age_approx'] = test_meta.age_approx.astype('int')"
   ]
  },
  {
   "source": [
    "## Write TFRecords (Train)"
   ],
   "cell_type": "markdown",
   "metadata": {}
  },
  {
   "cell_type": "code",
   "execution_count": 75,
   "metadata": {},
   "outputs": [],
   "source": [
    "# Functions to convert a value to a type compatible with tf.train.Example\n",
    "def _bytes_feature(value):\n",
    "  \"\"\"Returns a bytes_list from a string / byte.\"\"\"\n",
    "  if isinstance(value, type(tf.constant(0))):\n",
    "    value = value.numpy() # BytesList won't unpack a string from an EagerTensor.\n",
    "  return tf.train.Feature(bytes_list=tf.train.BytesList(value=[value]))\n",
    "\n",
    "def _float_feature(value):\n",
    "  \"\"\"Returns a float_list from a float / double.\"\"\"\n",
    "  return tf.train.Feature(float_list=tf.train.FloatList(value=[value]))\n",
    "\n",
    "def _int64_feature(value):\n",
    "  \"\"\"Returns an int64_list from a bool / enum / int / uint.\"\"\"\n",
    "  return tf.train.Feature(int64_list=tf.train.Int64List(value=[value]))"
   ]
  },
  {
   "cell_type": "code",
   "execution_count": 76,
   "metadata": {},
   "outputs": [],
   "source": [
    "# Generate flexible message type with a feature mapping\n",
    "def serialize_example(feature0, feature1, feature2, feature3, feature4, feature5, feature6, feature7):\n",
    "    \"\"\"\n",
    "    INPUT:  feature0:   the encoded image\n",
    "            feature1:   the image name\n",
    "            feature2:   the patient id\n",
    "            feature3:   sex of the patient\n",
    "            fature4:    age of the patient\n",
    "            feature5:   anatomic site of area to inspect\n",
    "            feature6:   the diagnosis\n",
    "            feature7:   the target \\in [0,1]\n",
    "    OUTPUT: message type with feature mapping\n",
    "    \"\"\"\n",
    "  feature = {\n",
    "      'image': _bytes_feature(feature0),\n",
    "      'image_name': _bytes_feature(feature1),\n",
    "      'patient_id': _int64_feature(feature2),\n",
    "      'sex': _int64_feature(feature3),\n",
    "      'age_approx': _int64_feature(feature4),\n",
    "      'anatom_site_general': _int64_feature(feature5),\n",
    "      'diagnosis': _int64_feature(feature6),\n",
    "      'target': _int64_feature(feature7)\n",
    "  }\n",
    "  example_proto = tf.train.Example(features=tf.train.Features(feature=feature))\n",
    "  return example_proto.SerializeToString()"
   ]
  },
  {
   "cell_type": "code",
   "execution_count": 77,
   "metadata": {},
   "outputs": [
    {
     "output_type": "stream",
     "name": "stdout",
     "text": [
      "6002 6002\n"
     ]
    }
   ],
   "source": [
    "# @TODO to run update your train and test path to your train and test images\n",
    "SIZE = 2071 # How many images will be stored in one TFRecord\n",
    "TRAIN_PATH = \"C:\\\\Users\\\\clara\\\\DataSets\\\\ISIC_2020_Training_JPEG\\\\train\\\\\"\n",
    "TEST_PATH = \"C:\\\\Users\\\\clara\\\\DataSets\\\\ISIC_2020_Test_JPEG\\\\ISIC_2020_Test_Input\\\\\"\n",
    "\n",
    "# Get a sorted list of image names\n",
    "IMGS = sorted(list(os.listdir(TRAIN_PATH)))\n",
    "IMGS_TEST = sorted(list(os.listdir(TEST_PATH)))\n",
    "\n",
    "# Remove unknown diagnosis (not contained in the cleaned_isic.csv file)\n",
    "IMGS = [i for i in IMGS if i[0:-4] in image_id_list]"
   ]
  },
  {
   "cell_type": "code",
   "execution_count": 78,
   "metadata": {},
   "outputs": [
    {
     "output_type": "stream",
     "name": "stdout",
     "text": [
      "\n",
      "Writing TFRecord 0 of 3...\n",
      "0 , 100 , 200 , 300 , 400 , 500 , 600 , 700 , 800 , 900 , 1000 , 1100 , 1200 , 1300 , 1400 , 1500 , 1600 , 1700 , 1800 , 1900 , 2000 , \n",
      "Writing TFRecord 1 of 3...\n",
      "0 , 100 , 200 , 300 , 400 , 500 , 600 , 700 , 800 , 900 , 1000 , 1100 , 1200 , 1300 , 1400 , 1500 , 1600 , 1700 , 1800 , 1900 , 2000 , \n",
      "Writing TFRecord 2 of 3...\n",
      "0 , 100 , 200 , 300 , 400 , 500 , 600 , 700 , 800 , 900 , 1000 , 1100 , 1200 , 1300 , 1400 , 1500 , 1600 , 1700 , 1800 , "
     ]
    }
   ],
   "source": [
    "# How many TFREcords will be written\n",
    "CT = len(IMGS)//SIZE + int(len(IMGS)%SIZE!=0)\n",
    "\n",
    "# Write the TFRecords\n",
    "for j in range(CT):\n",
    "    print(); print('Writing TFRecord %i of %i...'%(j,CT))\n",
    "\n",
    "    # Checks if the current Record is filled or if its the last record and its not completely filled.\n",
    "    CT2 = min(SIZE,len(IMGS)-j*SIZE)\n",
    "    # Name of the record to write\n",
    "    with tf.io.TFRecordWriter('train%.2i-%i.tfrec'%(j,CT2)) as writer:\n",
    "        for k in range(CT2):\n",
    "            # Open the current Image\n",
    "            img = cv2.imread(TRAIN_PATH+IMGS[SIZE*j+k])\n",
    "            img = cv2.cvtColor(img, cv2.COLOR_RGB2BGR)\n",
    "            # Resize all images\n",
    "            img = cv2.resize(img, (512, 512))\n",
    "            # Encode the image \n",
    "            img = cv2.imencode('.jpg', img, (cv2.IMWRITE_JPEG_QUALITY, 94))[1].tostring()\n",
    "            name = IMGS[SIZE*j+k].split('.')[0]\n",
    "            row = y_train.loc[y_train.image_name==name]\n",
    "            # Create flexible feature mapping message\n",
    "            example = serialize_example(\n",
    "                img, str.encode(name),\n",
    "                row.patient_id.values[0],\n",
    "                row.sex.values[0],\n",
    "                row.age_approx.values[0],                        \n",
    "                row.anatom_site_general.values[0],\n",
    "                row.diagnosis.values[0],\n",
    "                row.target.values[0])\n",
    "            writer.write(example)\n",
    "            if k%100==0: print(k,', ',end='')"
   ]
  },
  {
   "source": [
    "## Test TfRecords"
   ],
   "cell_type": "markdown",
   "metadata": {}
  },
  {
   "cell_type": "code",
   "execution_count": null,
   "metadata": {},
   "outputs": [],
   "source": [
    "# Currently left empty (could be used to generate the test TFRecords)"
   ]
  }
 ]
}