{
 "metadata": {
  "language_info": {
   "codemirror_mode": {
    "name": "ipython",
    "version": 3
   },
   "file_extension": ".py",
   "mimetype": "text/x-python",
   "name": "python",
   "nbconvert_exporter": "python",
   "pygments_lexer": "ipython3",
   "version": "3.7.7-final"
  },
  "orig_nbformat": 2,
  "kernelspec": {
   "name": "python3",
   "display_name": "Python 3.7.7 64-bit (conda)",
   "metadata": {
    "interpreter": {
     "hash": "f33f837dbefea15b1422979ed1c96cd5bea17514adcc763b39edb2e7a22f5726"
    }
   }
  }
 },
 "nbformat": 4,
 "nbformat_minor": 2,
 "cells": [
  {
   "cell_type": "code",
   "execution_count": 55,
   "metadata": {},
   "outputs": [],
   "source": [
    "# @TODO Install the following:\n",
    "# !pip install python-dotenv\n",
    "# !pip install isicarchive\n"
   ]
  },
  {
   "cell_type": "code",
   "execution_count": 56,
   "metadata": {},
   "outputs": [],
   "source": [
    "# @TODO create an account on: https://www.isic-archive.com/#!/topWithHeader/wideContentTop/main"
   ]
  },
  {
   "cell_type": "code",
   "execution_count": 57,
   "metadata": {},
   "outputs": [],
   "source": [
    "import os\n",
    "from os.path import join, dirname\n",
    "from dotenv import load_dotenv, find_dotenv\n",
    "from isicarchive.api import IsicApi"
   ]
  },
  {
   "cell_type": "code",
   "execution_count": 58,
   "metadata": {},
   "outputs": [],
   "source": [
    "# GET the username and password from the dotenv\n",
    "load_dotenv(find_dotenv())\n",
    "\n",
    "username=os.environ.get(\"USER_NAME\")\n",
    "password=os.environ.get(\"USER_PASSWORD\")"
   ]
  },
  {
   "cell_type": "code",
   "execution_count": 59,
   "metadata": {},
   "outputs": [
    {
     "output_type": "stream",
     "name": "stdout",
     "text": [
      "C:\\\\Users\\\\clara\\\\DataSets\\\\cache\n"
     ]
    }
   ],
   "source": [
    "# @TODO Add the place where you want to cache the images (individuals)\n",
    "\n",
    "cache_folder =os.environ.get('CACHE_FOLDER')\n",
    "api = IsicApi(username, password, cache_folder=cache_folder)"
   ]
  },
  {
   "cell_type": "code",
   "execution_count": 60,
   "metadata": {},
   "outputs": [],
   "source": [
    "# Populate image cache\n",
    "api.cache_images()"
   ]
  },
  {
   "cell_type": "code",
   "execution_count": 61,
   "metadata": {},
   "outputs": [
    {
     "output_type": "stream",
     "name": "stdout",
     "text": [
      "{'_id': '5e8f93814ad5f6bd588b16e3', '_modelType': 'image', 'created': '2020-04-09T21:28:33.191000+00:00', 'creator': {'_id': '5d2f67e62d9b53036316e9ea', 'name': 'User KGJB'}, 'dataset': {'_accessLevel': -1, '_id': '5faf0f181057cb63a161b637', 'description': 'This is the 14,825-images high-resolution portion from the MIA and SMDC clinics of the 2020 ISIC challenge contribution', 'license': 'CC-BY-NC', 'name': 'Sydney (MIA / SMDC) 2020 ISIC challenge contribution', 'updated': '2020-04-09T20:01:46.559000+00:00'}, 'meta': {'acquisition': {'pixelsX': 4032, 'pixelsY': 3024}, 'clinical': {'age_approx': 60, 'anatom_site_general': 'head/neck', 'benign_malignant': 'malignant', 'diagnosis': 'melanoma', 'diagnosis_confirm_type': 'histopathology', 'lesion_id': 'IL_1802809', 'mel_class': 'melanoma in situ', 'mel_type': None, 'melanocytic': True, 'nevus_type': None, 'patient_id': 'IP_2516168', 'sex': 'male'}}, 'name': 'ISIC_9998682', 'notes': {'reviewed': {'accepted': True, 'time': '2020-04-10T20:08:58.676000+00:00', 'userId': '5cd9ebcc2d9b530362618ca3'}, 'tags': ['Challenge 2020: Training']}, 'updated': '2020-04-09T21:28:33.191000+00:00'}\n"
     ]
    }
   ],
   "source": [
    "# @TODO test if it worked\n",
    "# display information about image ISIC_9998682(by its ID) from the cache (This is an image from the 2020 dataset)\n",
    "image_info = api.image_cache[api.images['ISIC_9998682']]\n",
    "print(image_info)"
   ]
  },
  {
   "cell_type": "code",
   "execution_count": null,
   "metadata": {},
   "outputs": [],
   "source": []
  }
 ]
}